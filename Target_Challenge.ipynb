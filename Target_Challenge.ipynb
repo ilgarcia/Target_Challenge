{
  "cells": [
    {
      "cell_type": "markdown",
      "metadata": {},
      "source": [
        "1 - Observe o trecho de código abaixo: int INDICE = 13, SOMA = 0, K = 0;\n",
        "\n",
        "Enquanto K < INDICE faça { K = K + 1; SOMA = SOMA + K; \n",
        "\n",
        "Imprimir(SOMA);\n",
        "\n",
        "Ao final do processamento, qual será o valor da variável SOMA?"
      ]
    },
    {
      "cell_type": "code",
      "execution_count": 2,
      "metadata": {
        "trusted": true
      },
      "outputs": [
        {
          "name": "stdout",
          "output_type": "stream",
          "text": [
            "91\n"
          ]
        }
      ],
      "source": [
        "INDICE = 13\n",
        "SOMA = 0\n",
        "K = 0\n",
        "\n",
        "while K < INDICE:\n",
        "    K = K + 1\n",
        "    SOMA = SOMA + K\n",
        "\n",
        "print(SOMA)"
      ]
    },
    {
      "cell_type": "markdown",
      "metadata": {},
      "source": [
        "2 - Dado a sequência de Fibonacci, onde se inicia por 0 e 1 e o próximo valor sempre será a soma dos 2 valores anteriores (exemplo: 0, 1, 1, 2, 3, 5, 8, 13, 21, 34...), escreva um programa na linguagem que desejar onde, informado um número, ele calcule a sequência de Fibonacci e retorne uma mensagem avisando se o número informado pertence ou não a sequência.\n",
        "\n",
        "IMPORTANTE: Esse número pode ser informado através de qualquer entrada de sua preferência ou pode ser previamente definido no código;"
      ]
    },
    {
      "cell_type": "code",
      "execution_count": 1,
      "metadata": {
        "trusted": true
      },
      "outputs": [
        {
          "name": "stdout",
          "output_type": "stream",
          "text": [
            "O número 21 pertence à sequência de Fibonacci.\n"
          ]
        }
      ],
      "source": [
        "def Fibonacci(num):\n",
        "    a, b = 0, 1\n",
        "\n",
        "    while a <= num:\n",
        "        if a == num:\n",
        "            return f\"O número {num} pertence à sequência de Fibonacci.\"\n",
        "        a, b = b, a + b\n",
        "\n",
        "    return f\"O número {num} NÃO pertence à sequência de Fibonacci.\"\n",
        "\n",
        "num = int(input(\"Digite um número: \"))\n",
        "result = Fibonacci(int(num))\n",
        "print(result)"
      ]
    },
    {
      "cell_type": "markdown",
      "metadata": {},
      "source": [
        "3 - Dado um vetor que guarda o valor de faturamento diário de uma distribuidora, faça um programa, na linguagem que desejar, que calcule e retorne:\n",
        "* O menor valor de faturamento ocorrido em um dia do mês;\n",
        "* O maior valor de faturamento ocorrido em um dia do mês;\n",
        "* Número de dias no mês em que o valor de faturamento diário foi superior à média mensal.\n",
        "\n",
        "IMPORTANTE:\n",
        "\n",
        "a) Usar o json ou xml disponível como fonte dos dados do faturamento mensal;\n",
        "\n",
        "b) Podem existir dias sem faturamento, como nos finais de semana e feriados. Estes dias devem ser ignorados no cálculo da média;"
      ]
    },
    {
      "cell_type": "code",
      "execution_count": 3,
      "metadata": {
        "trusted": true
      },
      "outputs": [
        {
          "name": "stdout",
          "output_type": "stream",
          "text": [
            "Menor valor de faturamento: 50.0\n",
            "Maior valor de faturamento: 400.0\n",
            "Número de dias acima da média: 2\n"
          ]
        }
      ],
      "source": [
        "import json\n",
        "\n",
        "data = {\n",
        "    \"dias\": [\n",
        "        {\"dia\": 1, \"valor\": 100.0},\n",
        "        {\"dia\": 2, \"valor\": 200.0},\n",
        "        {\"dia\": 3, \"valor\": 0.0},\n",
        "        {\"dia\": 4, \"valor\": 300.0},\n",
        "        {\"dia\": 5, \"valor\": 400.0},\n",
        "        {\"dia\": 6, \"valor\": 0.0},  \n",
        "        {\"dia\": 7, \"valor\": 0.0},\n",
        "        {\"dia\": 8, \"valor\": 150.0},\n",
        "        {\"dia\": 9, \"valor\": 50.0}\n",
        "    ]\n",
        "}\n",
        "\n",
        "def billing_analyze(faturamento):\n",
        "    values = [dia[\"valor\"] for dia in faturamento[\"dias\"] if dia[\"valor\"] > 0]\n",
        "\n",
        "    if not values:\n",
        "        return \"Não há faturamento válido para análise.\"\n",
        "\n",
        "    min_value = min(values)\n",
        "    max_value = max(values)\n",
        "\n",
        "    average = sum(values) / len(values)\n",
        "\n",
        "    above_average = sum(1 for value in values if value > average)\n",
        "\n",
        "    return {\n",
        "        \"menor_valor\": min_value,\n",
        "        \"maior_valor\": max_value,\n",
        "        \"dias_acima_da_media\": above_average\n",
        "    }\n",
        "\n",
        "result = billing_analyze(data)\n",
        "\n",
        "print(\"Menor valor de faturamento:\", result[\"menor_valor\"])\n",
        "print(\"Maior valor de faturamento:\", result[\"maior_valor\"])\n",
        "print(\"Número de dias acima da média:\", result[\"dias_acima_da_media\"])"
      ]
    },
    {
      "cell_type": "markdown",
      "metadata": {},
      "source": [
        "4 - Dado o valor de faturamento mensal de uma distribuidora, detalhado por estado:\n",
        "\n",
        "* SP – R$67.836,43\n",
        "\n",
        "* RJ – R$36.678,66\n",
        "\n",
        "* MG – R$29.229,88\n",
        "\n",
        "* ES – R$27.165,48\n",
        "\n",
        "* Outros – R$19.849,53\n",
        "\n",
        "\n",
        "Escreva um programa na linguagem que desejar onde calcule o percentual de representação que cada estado teve dentro do valor total mensal da distribuidora.  "
      ]
    },
    {
      "cell_type": "code",
      "execution_count": 5,
      "metadata": {
        "trusted": true
      },
      "outputs": [
        {
          "name": "stdout",
          "output_type": "stream",
          "text": [
            "Percentual de representação por estado:\n",
            "SP: 37.53%\n",
            "RJ: 20.29%\n",
            "MG: 16.17%\n",
            "ES: 15.03%\n",
            "Outros: 10.98%\n"
          ]
        }
      ],
      "source": [
        "state_billing = {\n",
        "    \"SP\": 67836.43,\n",
        "    \"RJ\": 36678.66,\n",
        "    \"MG\": 29229.88,\n",
        "    \"ES\": 27165.48,\n",
        "    \"Outros\": 19849.53\n",
        "}\n",
        "\n",
        "total_billing = sum(state_billing.values())\n",
        "\n",
        "print(\"Percentual de representação por estado:\")\n",
        "for state, value in state_billing.items():\n",
        "    percentual = (value / total_billing) * 100\n",
        "    print(f\"{state}: {percentual:.2f}%\")"
      ]
    },
    {
      "cell_type": "markdown",
      "metadata": {},
      "source": [
        "5 - Escreva um programa que inverta os caracteres de um string.\n",
        "\n",
        "IMPORTANTE:\n",
        "\n",
        "a) Essa string pode ser informada através de qualquer entrada de sua preferência ou pode ser previamente definida no código;\n",
        "\n",
        "b) Evite usar funções prontas, como, por exemplo, reverse;"
      ]
    },
    {
      "cell_type": "code",
      "execution_count": 6,
      "metadata": {
        "trusted": true
      },
      "outputs": [
        {
          "name": "stdout",
          "output_type": "stream",
          "text": [
            "String original: Python\n",
            "String invertida: nohtyP\n"
          ]
        }
      ],
      "source": [
        "def string_inverter(string):\n",
        "    inverted_string = \"\"\n",
        "    \n",
        "    for i in range(len(string) - 1, -1, -1):\n",
        "        inverted_string += string[i]\n",
        "    \n",
        "    return inverted_string\n",
        "\n",
        "string_original = input(\"Digite uma string para inverter: \")\n",
        "\n",
        "inverted_string = string_inverter(string_original)\n",
        "\n",
        "print(\"String original:\", string_original)\n",
        "print(\"String invertida:\", inverted_string)"
      ]
    },
    {
      "cell_type": "code",
      "execution_count": null,
      "metadata": {
        "trusted": true
      },
      "outputs": [],
      "source": []
    }
  ],
  "metadata": {
    "kernelspec": {
      "display_name": "Python 3",
      "language": "python",
      "name": "python3"
    },
    "language_info": {
      "codemirror_mode": {
        "name": "ipython",
        "version": 3
      },
      "file_extension": ".py",
      "mimetype": "text/x-python",
      "name": "python",
      "nbconvert_exporter": "python",
      "pygments_lexer": "ipython3",
      "version": "3.12.4"
    }
  },
  "nbformat": 4,
  "nbformat_minor": 4
}
